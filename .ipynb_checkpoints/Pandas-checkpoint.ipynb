{
 "cells": [
  {
   "cell_type": "code",
   "execution_count": 15,
   "id": "20dfd320",
   "metadata": {},
   "outputs": [],
   "source": [
    "#pandas - data handler | DataFrames\n",
    "\n",
    "#a python library which is used for working with Datasets\n",
    "#functions for analyzing, cleaning, exploring and manipulating data\n",
    "\n",
    "#panel data / python data analysis\n",
    "\n",
    "#analyze big data and make conclusion based on statistical theory\n",
    "\n",
    "#can clean messy data and make those readable and reliable\n",
    "#relevant data is very important for data science\n"
   ]
  },
  {
   "cell_type": "code",
   "execution_count": 17,
   "id": "411cd5cc",
   "metadata": {},
   "outputs": [
    {
     "name": "stdout",
     "output_type": "stream",
     "text": [
      "0    1\n",
      "1    7\n",
      "2    2\n",
      "dtype: int64\n"
     ]
    }
   ],
   "source": [
    "import pandas as pd\n",
    "a=[1,7,2]\n",
    "\n",
    "vr = pd.Series(a) #if nothing specified the values are leveled by index number\n",
    "print(vr)\n"
   ]
  },
  {
   "cell_type": "code",
   "execution_count": 18,
   "id": "850b1073",
   "metadata": {},
   "outputs": [
    {
     "name": "stdout",
     "output_type": "stream",
     "text": [
      "x    1\n",
      "y    7\n",
      "z    2\n",
      "dtype: int64\n"
     ]
    }
   ],
   "source": [
    "#create labels\n",
    "a=[1,7,2]\n",
    "\n",
    "vr = pd.Series(a,index=[\"x\",\"y\",\"z\"]) \n",
    "print(vr)\n"
   ]
  },
  {
   "cell_type": "code",
   "execution_count": 5,
   "id": "96ea629b",
   "metadata": {},
   "outputs": [
    {
     "name": "stdout",
     "output_type": "stream",
     "text": [
      "7\n"
     ]
    }
   ],
   "source": [
    "print(vr[\"y\"])"
   ]
  },
  {
   "cell_type": "code",
   "execution_count": 6,
   "id": "1f3d8a09",
   "metadata": {},
   "outputs": [],
   "source": [
    "#pandas - dataframe\n",
    "#dataframe is a 2d data structure like a 2d array wih rows and columns\n"
   ]
  },
  {
   "cell_type": "code",
   "execution_count": 19,
   "id": "a6656e8c",
   "metadata": {},
   "outputs": [
    {
     "name": "stdout",
     "output_type": "stream",
     "text": [
      "   calories  duration\n",
      "0        42        12\n",
      "1       323        50\n",
      "2       402        72\n"
     ]
    }
   ],
   "source": [
    "data =  {\n",
    "    \"calories\": [42,323,402],\n",
    "    \"duration\": [12,50,72]\n",
    "}\n",
    "\n",
    "df = pd.DataFrame(data) #convert to pandas dataframe\n",
    "\n",
    "print(df)"
   ]
  },
  {
   "cell_type": "code",
   "execution_count": 20,
   "id": "4cc196b1",
   "metadata": {},
   "outputs": [
    {
     "name": "stdout",
     "output_type": "stream",
     "text": [
      "calories    42\n",
      "duration    12\n",
      "Name: 0, dtype: int64\n"
     ]
    }
   ],
   "source": [
    "#refer to the row index:\n",
    "print(df.loc[0])\n"
   ]
  },
  {
   "cell_type": "code",
   "execution_count": 21,
   "id": "2b44ffc0",
   "metadata": {},
   "outputs": [
    {
     "name": "stdout",
     "output_type": "stream",
     "text": [
      "   calories  duration\n",
      "0        42        12\n",
      "1       323        50\n"
     ]
    }
   ],
   "source": [
    "#refer to a list of index:\n",
    "print(df.loc[[0,1]])\n"
   ]
  },
  {
   "cell_type": "code",
   "execution_count": 22,
   "id": "c7cc4816",
   "metadata": {},
   "outputs": [
    {
     "name": "stdout",
     "output_type": "stream",
     "text": [
      "      Series_reference   Period   Data_value STATUS  UNITS  \\\n",
      "0            CEPQ.S611  1989.12   456.670842  FINAL  Index   \n",
      "1            CEPQ.S611  1990.03   458.954197  FINAL  Index   \n",
      "2            CEPQ.S611  1990.06   466.717601  FINAL  Index   \n",
      "3            CEPQ.S611  1990.09   462.607563  FINAL  Index   \n",
      "4            CEPQ.S611  1990.12   467.174272  FINAL  Index   \n",
      "...                ...      ...          ...    ...    ...   \n",
      "73981   PPIQ.SQURS2110  2022.06  1432.000000  FINAL  Index   \n",
      "73982   PPIQ.SQURS2110  2022.09  1459.000000  FINAL  Index   \n",
      "73983   PPIQ.SQURS2110  2022.12  1552.000000  FINAL  Index   \n",
      "73984   PPIQ.SQURS2110  2023.03  1523.000000  FINAL  Index   \n",
      "73985   PPIQ.SQURS2110  2023.06  1549.000000  FINAL  Index   \n",
      "\n",
      "                               Subject  \\\n",
      "0      Capital Goods Price Index - CEP   \n",
      "1      Capital Goods Price Index - CEP   \n",
      "2      Capital Goods Price Index - CEP   \n",
      "3      Capital Goods Price Index - CEP   \n",
      "4      Capital Goods Price Index - CEP   \n",
      "...                                ...   \n",
      "73981      Producers Price Index - PPI   \n",
      "73982      Producers Price Index - PPI   \n",
      "73983      Producers Price Index - PPI   \n",
      "73984      Producers Price Index - PPI   \n",
      "73985      Producers Price Index - PPI   \n",
      "\n",
      "                                                   Group  \\\n",
      "0      Price Index all groups of capital goods (Base:...   \n",
      "1      Price Index all groups of capital goods (Base:...   \n",
      "2      Price Index all groups of capital goods (Base:...   \n",
      "3      Price Index all groups of capital goods (Base:...   \n",
      "4      Price Index all groups of capital goods (Base:...   \n",
      "...                                                  ...   \n",
      "73981  Outputs (ANZSIC06) - NZSIOC level 4, Base: Dec...   \n",
      "73982  Outputs (ANZSIC06) - NZSIOC level 4, Base: Dec...   \n",
      "73983  Outputs (ANZSIC06) - NZSIOC level 4, Base: Dec...   \n",
      "73984  Outputs (ANZSIC06) - NZSIOC level 4, Base: Dec...   \n",
      "73985  Outputs (ANZSIC06) - NZSIOC level 4, Base: Dec...   \n",
      "\n",
      "               Series_title_1 Series_title_2  Series_title_3  Series_title_4  \\\n",
      "0                  All Groups            NaN             NaN             NaN   \n",
      "1                  All Groups            NaN             NaN             NaN   \n",
      "2                  All Groups            NaN             NaN             NaN   \n",
      "3                  All Groups            NaN             NaN             NaN   \n",
      "4                  All Groups            NaN             NaN             NaN   \n",
      "...                       ...            ...             ...             ...   \n",
      "73981  Repair and Maintenance            NaN             NaN             NaN   \n",
      "73982  Repair and Maintenance            NaN             NaN             NaN   \n",
      "73983  Repair and Maintenance            NaN             NaN             NaN   \n",
      "73984  Repair and Maintenance            NaN             NaN             NaN   \n",
      "73985  Repair and Maintenance            NaN             NaN             NaN   \n",
      "\n",
      "       Series_title_5  \n",
      "0                 NaN  \n",
      "1                 NaN  \n",
      "2                 NaN  \n",
      "3                 NaN  \n",
      "4                 NaN  \n",
      "...               ...  \n",
      "73981             NaN  \n",
      "73982             NaN  \n",
      "73983             NaN  \n",
      "73984             NaN  \n",
      "73985             NaN  \n",
      "\n",
      "[73986 rows x 12 columns]\n"
     ]
    }
   ],
   "source": [
    "#data file CSV\n",
    "\n",
    "df = pd.read_csv('data.csv',low_memory=False)\n",
    "print(df)"
   ]
  },
  {
   "cell_type": "code",
   "execution_count": 23,
   "id": "b9db1621",
   "metadata": {},
   "outputs": [
    {
     "name": "stdout",
     "output_type": "stream",
     "text": [
      "    Index          User Id First Name  Last Name     Sex  \\\n",
      "0       1  88F7B33d2bcf9f5     Shelby    Terrell    Male   \n",
      "1       2  f90cD3E76f1A9b9    Phillip    Summers  Female   \n",
      "2       3  DbeAb8CcdfeFC2c   Kristine     Travis    Male   \n",
      "3       4  A31Bee3c201ef58    Yesenia   Martinez    Male   \n",
      "4       5  1bA7A3dc874da3c       Lori       Todd    Male   \n",
      "..    ...              ...        ...        ...     ...   \n",
      "95     96  5eFda7caAeB260E     Dennis     Barnes  Female   \n",
      "96     97  CCbFce93d3720bE      Steve  Patterson  Female   \n",
      "97     98  2fEc528aFAF0b69     Wesley       Bray    Male   \n",
      "98     99  Adc7ad9B6e4A1Fe     Summer   Oconnell  Female   \n",
      "99    100  b8D0aD3490FC7e1     Mariah    Bernard    Male   \n",
      "\n",
      "                         Email                   Phone Date of birth  \\\n",
      "0         elijah57@example.net  001-084-906-7849x73518      26-10-45   \n",
      "1        bethany14@example.com       214.112.6044x4913      24-03-10   \n",
      "2        bthompson@example.com            277.609.7938      02-07-92   \n",
      "3    kaitlinkaiser@example.com            584.094.6111      03-08-17   \n",
      "4   buchananmanuel@example.net       689-207-3558x7233      01-12-38   \n",
      "..                         ...                     ...           ...   \n",
      "95         bmartin@example.org    001-095-524-2112x257      30-07-54   \n",
      "96       latasha46@example.net        001-865-478-5157      29-04-32   \n",
      "97        regina11@example.org      995-542-3004x76800      28-12-94   \n",
      "98  alexiscantrell@example.org    001-273-685-6932x092      12-04-12   \n",
      "99       pcopeland@example.org     (341)594-6554x44657      15-11-16   \n",
      "\n",
      "                Job Title  \n",
      "0         Games developer  \n",
      "1          Phytotherapist  \n",
      "2                     NaN  \n",
      "3       Market researcher  \n",
      "4      Veterinary surgeon  \n",
      "..                    ...  \n",
      "95      Software engineer  \n",
      "96              Barrister  \n",
      "97         Police officer  \n",
      "98   Broadcast journalist  \n",
      "99  IT sales professional  \n",
      "\n",
      "[100 rows x 9 columns]\n"
     ]
    }
   ],
   "source": [
    "#data file CSV\n",
    "\n",
    "df = pd.read_csv('people-100.csv')\n",
    "print(df)"
   ]
  },
  {
   "cell_type": "code",
   "execution_count": 34,
   "id": "d379d304",
   "metadata": {},
   "outputs": [
    {
     "name": "stdout",
     "output_type": "stream",
     "text": [
      "   Index          User Id First Name Last Name     Sex Date of birth\n",
      "0      1  88F7B33d2bcf9f5     Shelby   Terrell    Male      26-10-45\n",
      "1      2  f90cD3E76f1A9b9    Phillip   Summers  Female      24-03-10\n",
      "2      3  DbeAb8CcdfeFC2c   Kristine    Travis     NaN      02-07-92\n",
      "3      4  A31Bee3c201ef58    Yesenia  Martinez    Male      03-08-17\n",
      "4      5  1bA7A3dc874da3c        NaN      Todd    Male      01-12-38\n",
      "5      6  bfDD7CDEF5D865B       Erin       Day    Male      28-10-15\n",
      "6      7  bE9EEf34cB72AF7  Katherine      Buck     NaN      22-01-89\n",
      "7      8  2EFC6A4e77FaEaC    Ricardo    Hinton    Male      26-03-24\n",
      "8      9  baDcC4DeefD8dEB       Dave   Farrell    Male      06-10-18\n",
      "9     10         24r3r34t     whanda        dw    Male           NaN\n",
      "--------------------------------------------------------------------\n",
      "   Index          User Id First Name Last Name     Sex Date of birth\n",
      "0      1  88F7B33d2bcf9f5     Shelby   Terrell    Male      26-10-45\n",
      "1      2  f90cD3E76f1A9b9    Phillip   Summers  Female      24-03-10\n",
      "3      4  A31Bee3c201ef58    Yesenia  Martinez    Male      03-08-17\n",
      "5      6  bfDD7CDEF5D865B       Erin       Day    Male      28-10-15\n",
      "7      8  2EFC6A4e77FaEaC    Ricardo    Hinton    Male      26-03-24\n",
      "8      9  baDcC4DeefD8dEB       Dave   Farrell    Male      06-10-18\n"
     ]
    }
   ],
   "source": [
    "#Cleaning Data - dealing with empty sets\n",
    "\n",
    "\n",
    "peo10 = pd.read_csv('peo-10.csv')\n",
    "\n",
    "\n",
    "new_peo10 = peo10.dropna() #create a new csv dataform where the NAN i.e. blank record fields are removed\n",
    "print(peo10.to_string())\n",
    "print(\"--------------------------------------------------------------------\")\n",
    "print(new_peo10.to_string())"
   ]
  },
  {
   "cell_type": "code",
   "execution_count": 36,
   "id": "f0359e4a",
   "metadata": {},
   "outputs": [
    {
     "name": "stdout",
     "output_type": "stream",
     "text": [
      "   Index          User Id First Name Last Name     Sex Date of birth\n",
      "0      1  88F7B33d2bcf9f5     Shelby   Terrell    Male      26-10-45\n",
      "1      2  f90cD3E76f1A9b9    Phillip   Summers  Female      24-03-10\n",
      "3      4  A31Bee3c201ef58    Yesenia  Martinez    Male      03-08-17\n",
      "5      6  bfDD7CDEF5D865B       Erin       Day    Male      28-10-15\n",
      "7      8  2EFC6A4e77FaEaC    Ricardo    Hinton    Male      26-03-24\n",
      "8      9  baDcC4DeefD8dEB       Dave   Farrell    Male      06-10-18\n"
     ]
    }
   ],
   "source": [
    "#Mode = the value that appers the most frequently\n",
    "\n",
    "peo10 = pd.read_csv('peo-10.csv')\n",
    "\n",
    "peo10.dropna(inplace=True) #change original dataframe\n",
    "\n",
    "print(peo10.to_string())"
   ]
  },
  {
   "cell_type": "code",
   "execution_count": 40,
   "id": "73582463",
   "metadata": {},
   "outputs": [
    {
     "name": "stdout",
     "output_type": "stream",
     "text": [
      "0     False\n",
      "1     False\n",
      "2     False\n",
      "3     False\n",
      "4     False\n",
      "5     False\n",
      "6     False\n",
      "7     False\n",
      "8     False\n",
      "9     False\n",
      "10     True\n",
      "dtype: bool\n"
     ]
    }
   ],
   "source": [
    "#Remove Duplicates\n",
    "dup = pd.read_csv('peo-10.csv')\n",
    "\n",
    "\n",
    "\n",
    "print(dup.duplicated())\n",
    "\n"
   ]
  },
  {
   "cell_type": "code",
   "execution_count": 43,
   "id": "19713093",
   "metadata": {},
   "outputs": [
    {
     "name": "stdout",
     "output_type": "stream",
     "text": [
      "   Index          User Id First Name Last Name     Sex Date of birth\n",
      "0      1  88F7B33d2bcf9f5     Shelby   Terrell    Male      26-10-45\n",
      "1      2  f90cD3E76f1A9b9    Phillip   Summers  Female      24-03-10\n",
      "2      3  DbeAb8CcdfeFC2c   Kristine    Travis     NaN      02-07-92\n",
      "3      4  A31Bee3c201ef58    Yesenia  Martinez    Male      03-08-17\n",
      "4      5  1bA7A3dc874da3c        NaN      Todd    Male      01-12-38\n",
      "5      6  bfDD7CDEF5D865B       Erin       Day    Male      28-10-15\n",
      "6      7  bE9EEf34cB72AF7  Katherine      Buck     NaN      22-01-89\n",
      "7      8  2EFC6A4e77FaEaC    Ricardo    Hinton    Male      26-03-24\n",
      "8      9  baDcC4DeefD8dEB       Dave   Farrell    Male      06-10-18\n",
      "9     10         24r3r34t     whanda        dw    Male           NaN\n"
     ]
    }
   ],
   "source": [
    "#remove duplicates from original\n",
    "dup.drop_duplicates(inplace= True)\n",
    "print(dup.to_string())"
   ]
  },
  {
   "cell_type": "code",
   "execution_count": null,
   "id": "86b67daf",
   "metadata": {},
   "outputs": [],
   "source": [
    "#Pandas - Data Correlations : finding relationships\n",
    "\n",
    "#corr() - method ignores \"non - numeric\" columns\n",
    "\n",
    "#finds the pelationshios between each column in the data set\n",
    "\n",
    "#corr() - reads data and find their relations \n",
    "#from -1 to +1 \n",
    "\n",
    "#+1 = one to one relationship- perfect relationship- eachtime a value went up in 1st cilumn others went up as well\n",
    "# .9 = also good - one goes up then other goes up\n",
    "# -.9 = increase one value the other will go down\n",
    "\n",
    "#.2 .1 are not good relationship\n"
   ]
  },
  {
   "cell_type": "code",
   "execution_count": 45,
   "id": "33b1a444",
   "metadata": {},
   "outputs": [
    {
     "name": "stdout",
     "output_type": "stream",
     "text": [
      "     Duration  Pulse  Maxpulse  Calories\n",
      "0          60    110       130     409.1\n",
      "1          60    117       145     479.0\n",
      "2          60    103       135     340.0\n",
      "3          45    109       175     282.4\n",
      "4          45    117       148     406.0\n",
      "..        ...    ...       ...       ...\n",
      "164        60    105       140     290.8\n",
      "165        60    110       145     300.0\n",
      "166        60    115       145     310.2\n",
      "167        75    120       150     320.4\n",
      "168        75    125       150     330.4\n",
      "\n",
      "[169 rows x 4 columns]\n"
     ]
    },
    {
     "data": {
      "text/html": [
       "<div>\n",
       "<style scoped>\n",
       "    .dataframe tbody tr th:only-of-type {\n",
       "        vertical-align: middle;\n",
       "    }\n",
       "\n",
       "    .dataframe tbody tr th {\n",
       "        vertical-align: top;\n",
       "    }\n",
       "\n",
       "    .dataframe thead th {\n",
       "        text-align: right;\n",
       "    }\n",
       "</style>\n",
       "<table border=\"1\" class=\"dataframe\">\n",
       "  <thead>\n",
       "    <tr style=\"text-align: right;\">\n",
       "      <th></th>\n",
       "      <th>Duration</th>\n",
       "      <th>Pulse</th>\n",
       "      <th>Maxpulse</th>\n",
       "      <th>Calories</th>\n",
       "    </tr>\n",
       "  </thead>\n",
       "  <tbody>\n",
       "    <tr>\n",
       "      <th>Duration</th>\n",
       "      <td>1.000000</td>\n",
       "      <td>-0.155408</td>\n",
       "      <td>0.009403</td>\n",
       "      <td>0.922717</td>\n",
       "    </tr>\n",
       "    <tr>\n",
       "      <th>Pulse</th>\n",
       "      <td>-0.155408</td>\n",
       "      <td>1.000000</td>\n",
       "      <td>0.786535</td>\n",
       "      <td>0.025121</td>\n",
       "    </tr>\n",
       "    <tr>\n",
       "      <th>Maxpulse</th>\n",
       "      <td>0.009403</td>\n",
       "      <td>0.786535</td>\n",
       "      <td>1.000000</td>\n",
       "      <td>0.203813</td>\n",
       "    </tr>\n",
       "    <tr>\n",
       "      <th>Calories</th>\n",
       "      <td>0.922717</td>\n",
       "      <td>0.025121</td>\n",
       "      <td>0.203813</td>\n",
       "      <td>1.000000</td>\n",
       "    </tr>\n",
       "  </tbody>\n",
       "</table>\n",
       "</div>"
      ],
      "text/plain": [
       "          Duration     Pulse  Maxpulse  Calories\n",
       "Duration  1.000000 -0.155408  0.009403  0.922717\n",
       "Pulse    -0.155408  1.000000  0.786535  0.025121\n",
       "Maxpulse  0.009403  0.786535  1.000000  0.203813\n",
       "Calories  0.922717  0.025121  0.203813  1.000000"
      ]
     },
     "execution_count": 45,
     "metadata": {},
     "output_type": "execute_result"
    }
   ],
   "source": [
    "cal = pd.read_csv('cal.csv')\n",
    "print(cal)\n",
    "cal.corr()"
   ]
  },
  {
   "cell_type": "code",
   "execution_count": null,
   "id": "dece723c",
   "metadata": {},
   "outputs": [],
   "source": []
  }
 ],
 "metadata": {
  "kernelspec": {
   "display_name": "Python 3 (ipykernel)",
   "language": "python",
   "name": "python3"
  },
  "language_info": {
   "codemirror_mode": {
    "name": "ipython",
    "version": 3
   },
   "file_extension": ".py",
   "mimetype": "text/x-python",
   "name": "python",
   "nbconvert_exporter": "python",
   "pygments_lexer": "ipython3",
   "version": "3.11.4"
  }
 },
 "nbformat": 4,
 "nbformat_minor": 5
}
