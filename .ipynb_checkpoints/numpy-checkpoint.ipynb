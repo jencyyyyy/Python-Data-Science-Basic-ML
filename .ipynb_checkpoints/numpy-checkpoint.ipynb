{
 "cells": [
  {
   "cell_type": "code",
   "execution_count": 5,
   "id": "4f1c2492",
   "metadata": {},
   "outputs": [
    {
     "name": "stdout",
     "output_type": "stream",
     "text": [
      "Hello\n"
     ]
    }
   ],
   "source": [
    "print(\"Hello\")\n",
    "#shif+enter = run block"
   ]
  },
  {
   "cell_type": "code",
   "execution_count": 6,
   "id": "ef7730dc",
   "metadata": {},
   "outputs": [
    {
     "name": "stdout",
     "output_type": "stream",
     "text": [
      "[ 1  2  3  4 12]\n",
      "<class 'numpy.ndarray'>\n",
      "1\n",
      "1.24.3\n"
     ]
    }
   ],
   "source": [
    "import numpy as np\n",
    "ar= np.array([1,2,3,4,12])\n",
    "print(ar)\n",
    "print(type(ar))\n",
    "print(ar[0])\n",
    "print(np.__version__)"
   ]
  },
  {
   "cell_type": "code",
   "execution_count": 15,
   "id": "3e9798c7",
   "metadata": {},
   "outputs": [
    {
     "name": "stdout",
     "output_type": "stream",
     "text": [
      "2nd element of 1st row: 2\n",
      "4th element of 2nd row: 51\n",
      "last element of 1st row: 12\n"
     ]
    }
   ],
   "source": [
    "#2d array\n",
    "arr= np.array([[1,2,3,4,12],[223,32,3,51,1]])\n",
    "print('2nd element of 1st row:',arr[0][1])\n",
    "print('4th element of 2nd row:',arr[1,3])\n",
    "print('last element of 1st row:',arr[0][-1])"
   ]
  },
  {
   "cell_type": "code",
   "execution_count": 16,
   "id": "b9c79716",
   "metadata": {},
   "outputs": [
    {
     "name": "stdout",
     "output_type": "stream",
     "text": [
      "1st row 2nd column -  last element: 6\n"
     ]
    }
   ],
   "source": [
    "#3d array\n",
    "arr= np.array([[[1,2,3],[4,5,6]],[[7,8,9],[10,11,12]]])\n",
    "print('1st row 2nd column -  last element:',arr[0,1,2])\n"
   ]
  },
  {
   "cell_type": "code",
   "execution_count": 21,
   "id": "537b4ebb",
   "metadata": {},
   "outputs": [
    {
     "name": "stdout",
     "output_type": "stream",
     "text": [
      "[1 2 3 4]\n",
      "[0 1 2 3]\n"
     ]
    }
   ],
   "source": [
    "#array slicing - taking elements from 1 given index to another index\n",
    "#[start:end]\n",
    "aslice= np.array([0,1,2,3,4,5,6,7,8,9])\n",
    "print(aslice[1:5]) #start from index-1 and exclude the end index-5 \n",
    "print(aslice[:4]) #start from index-0 and till index 3 (exclude index-4)"
   ]
  },
  {
   "cell_type": "code",
   "execution_count": 24,
   "id": "be6ec335",
   "metadata": {},
   "outputs": [
    {
     "name": "stdout",
     "output_type": "stream",
     "text": [
      "[0 1 2 3 4 5 6 7 8 9]\n",
      "[23  1  2  3  4  5  6  7  8  9]\n",
      "<class 'numpy.ndarray'>\n"
     ]
    }
   ],
   "source": [
    "#Copy is a new array- owns the data and changes in it will not affect the origital arrary and vice\n",
    "#View is the same array- Changes in it will affect the origital arrary and vice\n",
    "\n",
    "main= np.array([0,1,2,3,4,5,6,7,8,9])\n",
    "\n",
    "cpy = main.copy()\n",
    "\n",
    "main[0]=23\n",
    "\n",
    "print(cpy)\n",
    "print(main)\n",
    "print(type(cpy))"
   ]
  },
  {
   "cell_type": "code",
   "execution_count": 23,
   "id": "733a31b9",
   "metadata": {},
   "outputs": [
    {
     "name": "stdout",
     "output_type": "stream",
     "text": [
      "[23  1  2  3  4  5  6  7  8  9]\n",
      "[23  1  2  3  4  5  6  7  8  9]\n"
     ]
    }
   ],
   "source": [
    "#View is the same array- Changes in it will affect the origital arrary and vice\n",
    "\n",
    "main= np.array([0,1,2,3,4,5,6,7,8,9])\n",
    "\n",
    "vw = main.view()\n",
    "\n",
    "main[0]=23\n",
    "\n",
    "print(vw)\n",
    "print(main)"
   ]
  },
  {
   "cell_type": "code",
   "execution_count": 30,
   "id": "94a3369f",
   "metadata": {},
   "outputs": [
    {
     "name": "stdout",
     "output_type": "stream",
     "text": [
      "[[0 1 2 3 4]\n",
      " [5 6 7 8 9]]\n",
      "(2, 5)\n",
      "[[[ 1  2  3]\n",
      "  [ 4  5  6]]\n",
      "\n",
      " [[ 7  8  9]\n",
      "  [10 11 12]]]\n",
      "(2, 2, 3)\n"
     ]
    }
   ],
   "source": [
    "#numpy array reshaping\n",
    "\n",
    "aryshape= np.array([[0,1,2,3,4],[5,6,7,8,9]])\n",
    "print(aryshape)\n",
    "print(aryshape.shape)\n",
    "\n",
    "\n",
    "arr= np.array([[[1,2,3],[4,5,6]],[[7,8,9],[10,11,12]]])\n",
    "print(arr)\n",
    "print(arr.shape)\n"
   ]
  },
  {
   "cell_type": "code",
   "execution_count": 31,
   "id": "59713b18",
   "metadata": {},
   "outputs": [
    {
     "name": "stdout",
     "output_type": "stream",
     "text": [
      "[[[[[1 2 3 4]]]]]\n",
      "shape:  (2, 2, 3)\n"
     ]
    }
   ],
   "source": [
    "#create array with 5 dimension\n",
    "\n",
    "nary=np.array([1,2,3,4],ndmin=5)\n",
    "\n",
    "print(nary)\n",
    "print('shape: ',arr.shape)\n"
   ]
  },
  {
   "cell_type": "code",
   "execution_count": 37,
   "id": "6c2d1cf7",
   "metadata": {},
   "outputs": [
    {
     "name": "stdout",
     "output_type": "stream",
     "text": [
      "[[ 0  1  2]\n",
      " [ 3  4  5]\n",
      " [ 6  7  8]\n",
      " [ 9 10 11]]\n",
      "shape:  (4, 3)\n"
     ]
    }
   ],
   "source": [
    "#reshape from 1D to 2D\n",
    "\n",
    "nmain= np.array([0,1,2,3,4,5,6,7,8,9,10,11]) #there are 12 elements so we can \n",
    "\n",
    "reshapear = nmain.reshape(4, 3)\n",
    "print(reshapear)\n",
    "print('shape: ',reshapear.shape)\n"
   ]
  },
  {
   "cell_type": "code",
   "execution_count": 38,
   "id": "02a389b0",
   "metadata": {},
   "outputs": [
    {
     "name": "stdout",
     "output_type": "stream",
     "text": [
      "[[[ 0  1]\n",
      "  [ 2  3]\n",
      "  [ 4  5]]\n",
      "\n",
      " [[ 6  7]\n",
      "  [ 8  9]\n",
      "  [10 11]]]\n",
      "shape:  (2, 3, 2)\n"
     ]
    }
   ],
   "source": [
    "#reshape from 1D to 3D\n",
    "\n",
    "nmain= np.array([0,1,2,3,4,5,6,7,8,9,10,11]) #there are 12 elements so we can \n",
    "\n",
    "reshapear = nmain.reshape(2,3, 2)\n",
    "print(reshapear)\n",
    "print('shape: ',reshapear.shape)"
   ]
  },
  {
   "cell_type": "code",
   "execution_count": 39,
   "id": "b5a4817e",
   "metadata": {},
   "outputs": [
    {
     "name": "stdout",
     "output_type": "stream",
     "text": [
      "0\n",
      "1\n",
      "2\n",
      "3\n",
      "4\n",
      "5\n",
      "6\n",
      "7\n",
      "8\n",
      "9\n",
      "10\n",
      "11\n"
     ]
    }
   ],
   "source": [
    "#iterate through data 1D array\n",
    "\n",
    "ar= np.array([0,1,2,3,4,5,6,7,8,9,10,11]) \n",
    "\n",
    "for x in ar:\n",
    "    print(x)"
   ]
  },
  {
   "cell_type": "code",
   "execution_count": 40,
   "id": "8fe45962",
   "metadata": {},
   "outputs": [
    {
     "name": "stdout",
     "output_type": "stream",
     "text": [
      "[0 1 2 3]\n",
      "[4 5 6 7]\n",
      "[ 8  9 10 11]\n"
     ]
    }
   ],
   "source": [
    "#iterate through data 2D array\n",
    "\n",
    "ar= np.array([[0,1,2,3],[4,5,6,7],[8,9,10,11]]) \n",
    "\n",
    "for x in ar:\n",
    "    print(x) "
   ]
  },
  {
   "cell_type": "code",
   "execution_count": null,
   "id": "7bdffdf4",
   "metadata": {},
   "outputs": [],
   "source": []
  }
 ],
 "metadata": {
  "kernelspec": {
   "display_name": "Python 3 (ipykernel)",
   "language": "python",
   "name": "python3"
  },
  "language_info": {
   "codemirror_mode": {
    "name": "ipython",
    "version": 3
   },
   "file_extension": ".py",
   "mimetype": "text/x-python",
   "name": "python",
   "nbconvert_exporter": "python",
   "pygments_lexer": "ipython3",
   "version": "3.11.4"
  }
 },
 "nbformat": 4,
 "nbformat_minor": 5
}
